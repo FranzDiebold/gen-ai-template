{
 "cells": [
  {
   "cell_type": "markdown",
   "id": "abec84b3-bfb5-4d08-aabe-e5785a15ef93",
   "metadata": {},
   "source": [
    "# LLM examples"
   ]
  },
  {
   "cell_type": "markdown",
   "id": "4976baa0-b47f-4669-ab59-e3b44b932e30",
   "metadata": {},
   "source": [
    "## Option 1: Docker model runner (local running models)"
   ]
  },
  {
   "cell_type": "code",
   "execution_count": null,
   "id": "1301c320-85da-49e6-a8d3-a4fd8118dc53",
   "metadata": {},
   "outputs": [],
   "source": [
    "import os\n",
    "from langchain_openai import ChatOpenAI\n",
    "\n",
    "llm_url = os.environ.get(\"SMOLLM2_URL\")\n",
    "llm_model = os.environ.get(\"SMOLLM2\")\n",
    "llm = ChatOpenAI(base_url=llm_url, model=llm_model, openai_api_key=\"docker\")\n",
    "\n",
    "llm.invoke(\"Come up with 10 names for a song about parrots\")"
   ]
  },
  {
   "cell_type": "markdown",
   "id": "ec86aafe-b058-4471-a385-4fc9394942a0",
   "metadata": {},
   "source": [
    "## Option 2: Ollama (local running models)"
   ]
  },
  {
   "cell_type": "code",
   "execution_count": null,
   "id": "d19835ad-94f4-4bd4-bb39-d85f61bea956",
   "metadata": {},
   "outputs": [],
   "source": [
    "from langchain_ollama import OllamaLLM\n",
    "\n",
    "llm = OllamaLLM(base_url=\"http://ollama:11434\", model=\"llama3.2:1b\")\n",
    "\n",
    "llm.invoke(\"Come up with 10 names for a song about parrots\")"
   ]
  }
 ],
 "metadata": {
  "kernelspec": {
   "display_name": "Python 3 (ipykernel)",
   "language": "python",
   "name": "python3"
  },
  "language_info": {
   "codemirror_mode": {
    "name": "ipython",
    "version": 3
   },
   "file_extension": ".py",
   "mimetype": "text/x-python",
   "name": "python",
   "nbconvert_exporter": "python",
   "pygments_lexer": "ipython3",
   "version": "3.12.10"
  }
 },
 "nbformat": 4,
 "nbformat_minor": 5
}
